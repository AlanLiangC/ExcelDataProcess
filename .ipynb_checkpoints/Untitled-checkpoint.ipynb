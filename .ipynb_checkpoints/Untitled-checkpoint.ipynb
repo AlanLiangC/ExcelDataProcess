{
 "cells": [
  {
   "cell_type": "code",
   "execution_count": 1,
   "metadata": {},
   "outputs": [],
   "source": [
    "import numpy as np\n",
    "import pandas as pd\n",
    "import jieba"
   ]
  },
  {
   "cell_type": "code",
   "execution_count": 32,
   "metadata": {},
   "outputs": [],
   "source": [
    "data = pd.read_excel(\"./闽财指2021-424号：支付明细.xlsx\")"
   ]
  },
  {
   "cell_type": "code",
   "execution_count": 43,
   "metadata": {},
   "outputs": [
    {
     "data": {
      "text/html": [
       "<div>\n",
       "<style scoped>\n",
       "    .dataframe tbody tr th:only-of-type {\n",
       "        vertical-align: middle;\n",
       "    }\n",
       "\n",
       "    .dataframe tbody tr th {\n",
       "        vertical-align: top;\n",
       "    }\n",
       "\n",
       "    .dataframe thead th {\n",
       "        text-align: right;\n",
       "    }\n",
       "</style>\n",
       "<table border=\"1\" class=\"dataframe\">\n",
       "  <thead>\n",
       "    <tr style=\"text-align: right;\">\n",
       "      <th></th>\n",
       "      <th>支付凭证号</th>\n",
       "      <th>申请单号</th>\n",
       "      <th>预算单位编码</th>\n",
       "      <th>预算单位</th>\n",
       "      <th>功能分类编码</th>\n",
       "      <th>功能分类</th>\n",
       "      <th>政府经济分类编码</th>\n",
       "      <th>政府经济分类名称</th>\n",
       "      <th>经济分类编码</th>\n",
       "      <th>经济分类</th>\n",
       "      <th>...</th>\n",
       "      <th>指标来源</th>\n",
       "      <th>列支类型</th>\n",
       "      <th>调整类型</th>\n",
       "      <th>流程状态</th>\n",
       "      <th>流程节点</th>\n",
       "      <th>下一流程节点</th>\n",
       "      <th>被退款支付凭证号</th>\n",
       "      <th>预算项目</th>\n",
       "      <th>支付摘要</th>\n",
       "      <th>柜面业务类型</th>\n",
       "    </tr>\n",
       "  </thead>\n",
       "  <tbody>\n",
       "    <tr>\n",
       "      <th>0</th>\n",
       "      <td>D012021-V022A5-01534</td>\n",
       "      <td>D012021-022A5-01555</td>\n",
       "      <td>311301302.0</td>\n",
       "      <td>福建省教育厅（本级）</td>\n",
       "      <td>2050299.0</td>\n",
       "      <td>其他普通教育支出</td>\n",
       "      <td>50299.0</td>\n",
       "      <td>其他商品和服务支出</td>\n",
       "      <td>30226.0</td>\n",
       "      <td>劳务费</td>\n",
       "      <td>...</td>\n",
       "      <td>年初预算本级收入（含年初作为本级财力统筹使用的上级补助）</td>\n",
       "      <td>当年指标</td>\n",
       "      <td>指标拨款</td>\n",
       "      <td>流程结束</td>\n",
       "      <td>结束</td>\n",
       "      <td>NaN</td>\n",
       "      <td>NaN</td>\n",
       "      <td>2021年基础教育质量提升专项资金(省属）</td>\n",
       "      <td>评审费基教处报吴丽仙专家</td>\n",
       "      <td>自助柜面业务</td>\n",
       "    </tr>\n",
       "    <tr>\n",
       "      <th>1</th>\n",
       "      <td>D012021-V022A5-01535</td>\n",
       "      <td>D012021-022A5-01556</td>\n",
       "      <td>311301302.0</td>\n",
       "      <td>福建省教育厅（本级）</td>\n",
       "      <td>2050299.0</td>\n",
       "      <td>其他普通教育支出</td>\n",
       "      <td>50299.0</td>\n",
       "      <td>其他商品和服务支出</td>\n",
       "      <td>30226.0</td>\n",
       "      <td>劳务费</td>\n",
       "      <td>...</td>\n",
       "      <td>年初预算本级收入（含年初作为本级财力统筹使用的上级补助）</td>\n",
       "      <td>当年指标</td>\n",
       "      <td>指标拨款</td>\n",
       "      <td>流程结束</td>\n",
       "      <td>结束</td>\n",
       "      <td>NaN</td>\n",
       "      <td>NaN</td>\n",
       "      <td>2021年基础教育质量提升专项资金(省属）</td>\n",
       "      <td>评审费基教处报王先达专家</td>\n",
       "      <td>自助柜面业务</td>\n",
       "    </tr>\n",
       "    <tr>\n",
       "      <th>2</th>\n",
       "      <td>D012021-V022A5-01532</td>\n",
       "      <td>D012021-022A5-01553</td>\n",
       "      <td>311301302.0</td>\n",
       "      <td>福建省教育厅（本级）</td>\n",
       "      <td>2050299.0</td>\n",
       "      <td>其他普通教育支出</td>\n",
       "      <td>50299.0</td>\n",
       "      <td>其他商品和服务支出</td>\n",
       "      <td>30226.0</td>\n",
       "      <td>劳务费</td>\n",
       "      <td>...</td>\n",
       "      <td>年初预算本级收入（含年初作为本级财力统筹使用的上级补助）</td>\n",
       "      <td>当年指标</td>\n",
       "      <td>指标拨款</td>\n",
       "      <td>流程结束</td>\n",
       "      <td>结束</td>\n",
       "      <td>NaN</td>\n",
       "      <td>NaN</td>\n",
       "      <td>2021年基础教育质量提升专项资金(省属）</td>\n",
       "      <td>评审费基教处报程奇专家</td>\n",
       "      <td>自助柜面业务</td>\n",
       "    </tr>\n",
       "    <tr>\n",
       "      <th>3</th>\n",
       "      <td>D012021-V022A5-01536</td>\n",
       "      <td>D012021-022A5-01557</td>\n",
       "      <td>311301302.0</td>\n",
       "      <td>福建省教育厅（本级）</td>\n",
       "      <td>2050299.0</td>\n",
       "      <td>其他普通教育支出</td>\n",
       "      <td>50299.0</td>\n",
       "      <td>其他商品和服务支出</td>\n",
       "      <td>30226.0</td>\n",
       "      <td>劳务费</td>\n",
       "      <td>...</td>\n",
       "      <td>年初预算本级收入（含年初作为本级财力统筹使用的上级补助）</td>\n",
       "      <td>当年指标</td>\n",
       "      <td>指标拨款</td>\n",
       "      <td>流程结束</td>\n",
       "      <td>结束</td>\n",
       "      <td>NaN</td>\n",
       "      <td>NaN</td>\n",
       "      <td>2021年基础教育质量提升专项资金(省属）</td>\n",
       "      <td>评审费基教处报宁亚飞专家</td>\n",
       "      <td>自助柜面业务</td>\n",
       "    </tr>\n",
       "    <tr>\n",
       "      <th>4</th>\n",
       "      <td>D012021-V022A5-01533</td>\n",
       "      <td>D012021-022A5-01554</td>\n",
       "      <td>311301302.0</td>\n",
       "      <td>福建省教育厅（本级）</td>\n",
       "      <td>2050299.0</td>\n",
       "      <td>其他普通教育支出</td>\n",
       "      <td>50299.0</td>\n",
       "      <td>其他商品和服务支出</td>\n",
       "      <td>30226.0</td>\n",
       "      <td>劳务费</td>\n",
       "      <td>...</td>\n",
       "      <td>年初预算本级收入（含年初作为本级财力统筹使用的上级补助）</td>\n",
       "      <td>当年指标</td>\n",
       "      <td>指标拨款</td>\n",
       "      <td>流程结束</td>\n",
       "      <td>结束</td>\n",
       "      <td>NaN</td>\n",
       "      <td>NaN</td>\n",
       "      <td>2021年基础教育质量提升专项资金(省属）</td>\n",
       "      <td>评审费基教处报曾雅茹专家</td>\n",
       "      <td>自助柜面业务</td>\n",
       "    </tr>\n",
       "  </tbody>\n",
       "</table>\n",
       "<p>5 rows × 35 columns</p>\n",
       "</div>"
      ],
      "text/plain": [
       "                  支付凭证号                 申请单号       预算单位编码        预算单位  \\\n",
       "0  D012021-V022A5-01534  D012021-022A5-01555  311301302.0  福建省教育厅（本级）   \n",
       "1  D012021-V022A5-01535  D012021-022A5-01556  311301302.0  福建省教育厅（本级）   \n",
       "2  D012021-V022A5-01532  D012021-022A5-01553  311301302.0  福建省教育厅（本级）   \n",
       "3  D012021-V022A5-01536  D012021-022A5-01557  311301302.0  福建省教育厅（本级）   \n",
       "4  D012021-V022A5-01533  D012021-022A5-01554  311301302.0  福建省教育厅（本级）   \n",
       "\n",
       "      功能分类编码      功能分类  政府经济分类编码   政府经济分类名称   经济分类编码 经济分类   ...    \\\n",
       "0  2050299.0  其他普通教育支出   50299.0  其他商品和服务支出  30226.0  劳务费   ...     \n",
       "1  2050299.0  其他普通教育支出   50299.0  其他商品和服务支出  30226.0  劳务费   ...     \n",
       "2  2050299.0  其他普通教育支出   50299.0  其他商品和服务支出  30226.0  劳务费   ...     \n",
       "3  2050299.0  其他普通教育支出   50299.0  其他商品和服务支出  30226.0  劳务费   ...     \n",
       "4  2050299.0  其他普通教育支出   50299.0  其他商品和服务支出  30226.0  劳务费   ...     \n",
       "\n",
       "                           指标来源  列支类型  调整类型  流程状态 流程节点 下一流程节点 被退款支付凭证号  \\\n",
       "0  年初预算本级收入（含年初作为本级财力统筹使用的上级补助）  当年指标  指标拨款  流程结束   结束    NaN      NaN   \n",
       "1  年初预算本级收入（含年初作为本级财力统筹使用的上级补助）  当年指标  指标拨款  流程结束   结束    NaN      NaN   \n",
       "2  年初预算本级收入（含年初作为本级财力统筹使用的上级补助）  当年指标  指标拨款  流程结束   结束    NaN      NaN   \n",
       "3  年初预算本级收入（含年初作为本级财力统筹使用的上级补助）  当年指标  指标拨款  流程结束   结束    NaN      NaN   \n",
       "4  年初预算本级收入（含年初作为本级财力统筹使用的上级补助）  当年指标  指标拨款  流程结束   结束    NaN      NaN   \n",
       "\n",
       "                    预算项目          支付摘要  柜面业务类型  \n",
       "0  2021年基础教育质量提升专项资金(省属）  评审费基教处报吴丽仙专家  自助柜面业务  \n",
       "1  2021年基础教育质量提升专项资金(省属）  评审费基教处报王先达专家  自助柜面业务  \n",
       "2  2021年基础教育质量提升专项资金(省属）   评审费基教处报程奇专家  自助柜面业务  \n",
       "3  2021年基础教育质量提升专项资金(省属）  评审费基教处报宁亚飞专家  自助柜面业务  \n",
       "4  2021年基础教育质量提升专项资金(省属）  评审费基教处报曾雅茹专家  自助柜面业务  \n",
       "\n",
       "[5 rows x 35 columns]"
      ]
     },
     "execution_count": 43,
     "metadata": {},
     "output_type": "execute_result"
    }
   ],
   "source": [
    "data.head()"
   ]
  },
  {
   "cell_type": "code",
   "execution_count": 136,
   "metadata": {},
   "outputs": [],
   "source": [
    "# \"预算单位 3\",\"经济分类 9\",\"指标文号 10\",\"申请金额 13\",\"收款人名称 14\",\"支付日期 18\",\"支付摘要 -2\"\n",
    "# data1 = data.loc[\"预算单位\",\"经济分类\",\"指标文号\",\"申请金额\",\"收款人名称\",\"支付日期\",\"支付摘要\"][:]\n",
    "# data1 = data.loc[0,[3,9,10,13,14,18,-2]]\n",
    "data1 = data.loc[:,[\"预算单位\",\"经济分类\",\"指标文号\",\"申请金额\",\"收款人名称\",\"支付日期\",\"支付摘要\"]].dropna()"
   ]
  },
  {
   "cell_type": "code",
   "execution_count": 137,
   "metadata": {},
   "outputs": [],
   "source": [
    "data2 = data1.loc[data1[\"预算单位\"] == \"福建省教育厅（本级）\"]"
   ]
  },
  {
   "cell_type": "code",
   "execution_count": 138,
   "metadata": {},
   "outputs": [
    {
     "data": {
      "text/html": [
       "<div>\n",
       "<style scoped>\n",
       "    .dataframe tbody tr th:only-of-type {\n",
       "        vertical-align: middle;\n",
       "    }\n",
       "\n",
       "    .dataframe tbody tr th {\n",
       "        vertical-align: top;\n",
       "    }\n",
       "\n",
       "    .dataframe thead th {\n",
       "        text-align: right;\n",
       "    }\n",
       "</style>\n",
       "<table border=\"1\" class=\"dataframe\">\n",
       "  <thead>\n",
       "    <tr style=\"text-align: right;\">\n",
       "      <th></th>\n",
       "      <th>预算单位</th>\n",
       "      <th>经济分类</th>\n",
       "      <th>指标文号</th>\n",
       "      <th>申请金额</th>\n",
       "      <th>收款人名称</th>\n",
       "      <th>支付日期</th>\n",
       "      <th>支付摘要</th>\n",
       "    </tr>\n",
       "  </thead>\n",
       "  <tbody>\n",
       "    <tr>\n",
       "      <th>0</th>\n",
       "      <td>福建省教育厅（本级）</td>\n",
       "      <td>劳务费</td>\n",
       "      <td>闽财指【2021】0424号</td>\n",
       "      <td>800.0</td>\n",
       "      <td>吴丽仙</td>\n",
       "      <td>2021-08-09 09:15:32</td>\n",
       "      <td>评审费基教处报吴丽仙专家</td>\n",
       "    </tr>\n",
       "    <tr>\n",
       "      <th>1</th>\n",
       "      <td>福建省教育厅（本级）</td>\n",
       "      <td>劳务费</td>\n",
       "      <td>闽财指【2021】0424号</td>\n",
       "      <td>800.0</td>\n",
       "      <td>王先达</td>\n",
       "      <td>2021-08-09 09:15:32</td>\n",
       "      <td>评审费基教处报王先达专家</td>\n",
       "    </tr>\n",
       "    <tr>\n",
       "      <th>2</th>\n",
       "      <td>福建省教育厅（本级）</td>\n",
       "      <td>劳务费</td>\n",
       "      <td>闽财指【2021】0424号</td>\n",
       "      <td>800.0</td>\n",
       "      <td>程奇</td>\n",
       "      <td>2021-08-09 09:18:32</td>\n",
       "      <td>评审费基教处报程奇专家</td>\n",
       "    </tr>\n",
       "    <tr>\n",
       "      <th>3</th>\n",
       "      <td>福建省教育厅（本级）</td>\n",
       "      <td>劳务费</td>\n",
       "      <td>闽财指【2021】0424号</td>\n",
       "      <td>800.0</td>\n",
       "      <td>宁亚飞</td>\n",
       "      <td>2021-08-09 09:19:09</td>\n",
       "      <td>评审费基教处报宁亚飞专家</td>\n",
       "    </tr>\n",
       "    <tr>\n",
       "      <th>4</th>\n",
       "      <td>福建省教育厅（本级）</td>\n",
       "      <td>劳务费</td>\n",
       "      <td>闽财指【2021】0424号</td>\n",
       "      <td>800.0</td>\n",
       "      <td>曾雅茹</td>\n",
       "      <td>2021-08-09 09:19:09</td>\n",
       "      <td>评审费基教处报曾雅茹专家</td>\n",
       "    </tr>\n",
       "  </tbody>\n",
       "</table>\n",
       "</div>"
      ],
      "text/plain": [
       "         预算单位 经济分类            指标文号   申请金额 收款人名称                 支付日期  \\\n",
       "0  福建省教育厅（本级）  劳务费  闽财指【2021】0424号  800.0   吴丽仙  2021-08-09 09:15:32   \n",
       "1  福建省教育厅（本级）  劳务费  闽财指【2021】0424号  800.0   王先达  2021-08-09 09:15:32   \n",
       "2  福建省教育厅（本级）  劳务费  闽财指【2021】0424号  800.0    程奇  2021-08-09 09:18:32   \n",
       "3  福建省教育厅（本级）  劳务费  闽财指【2021】0424号  800.0   宁亚飞  2021-08-09 09:19:09   \n",
       "4  福建省教育厅（本级）  劳务费  闽财指【2021】0424号  800.0   曾雅茹  2021-08-09 09:19:09   \n",
       "\n",
       "           支付摘要  \n",
       "0  评审费基教处报吴丽仙专家  \n",
       "1  评审费基教处报王先达专家  \n",
       "2   评审费基教处报程奇专家  \n",
       "3  评审费基教处报宁亚飞专家  \n",
       "4  评审费基教处报曾雅茹专家  "
      ]
     },
     "execution_count": 138,
     "metadata": {},
     "output_type": "execute_result"
    }
   ],
   "source": [
    "data2.head()"
   ]
  },
  {
   "cell_type": "code",
   "execution_count": 153,
   "metadata": {},
   "outputs": [
    {
     "data": {
      "text/html": [
       "<div>\n",
       "<style scoped>\n",
       "    .dataframe tbody tr th:only-of-type {\n",
       "        vertical-align: middle;\n",
       "    }\n",
       "\n",
       "    .dataframe tbody tr th {\n",
       "        vertical-align: top;\n",
       "    }\n",
       "\n",
       "    .dataframe thead th {\n",
       "        text-align: right;\n",
       "    }\n",
       "</style>\n",
       "<table border=\"1\" class=\"dataframe\">\n",
       "  <thead>\n",
       "    <tr style=\"text-align: right;\">\n",
       "      <th></th>\n",
       "      <th>预算单位</th>\n",
       "      <th>经济分类</th>\n",
       "      <th>指标文号</th>\n",
       "      <th>申请金额</th>\n",
       "      <th>收款人名称</th>\n",
       "      <th>支付日期</th>\n",
       "      <th>支付摘要</th>\n",
       "    </tr>\n",
       "  </thead>\n",
       "  <tbody>\n",
       "    <tr>\n",
       "      <th>0</th>\n",
       "      <td>福建省教育厅（本级）</td>\n",
       "      <td>劳务费</td>\n",
       "      <td>闽财指【2021】0424号</td>\n",
       "      <td>800.0</td>\n",
       "      <td>吴丽仙</td>\n",
       "      <td>2021-08-09 09:15:32</td>\n",
       "      <td>评审费基教处报吴丽仙专家</td>\n",
       "    </tr>\n",
       "    <tr>\n",
       "      <th>1</th>\n",
       "      <td>福建省教育厅（本级）</td>\n",
       "      <td>劳务费</td>\n",
       "      <td>闽财指【2021】0424号</td>\n",
       "      <td>800.0</td>\n",
       "      <td>王先达</td>\n",
       "      <td>2021-08-09 09:15:32</td>\n",
       "      <td>评审费基教处报王先达专家</td>\n",
       "    </tr>\n",
       "    <tr>\n",
       "      <th>2</th>\n",
       "      <td>福建省教育厅（本级）</td>\n",
       "      <td>劳务费</td>\n",
       "      <td>闽财指【2021】0424号</td>\n",
       "      <td>800.0</td>\n",
       "      <td>程奇</td>\n",
       "      <td>2021-08-09 09:18:32</td>\n",
       "      <td>评审费基教处报程奇专家</td>\n",
       "    </tr>\n",
       "    <tr>\n",
       "      <th>3</th>\n",
       "      <td>福建省教育厅（本级）</td>\n",
       "      <td>劳务费</td>\n",
       "      <td>闽财指【2021】0424号</td>\n",
       "      <td>800.0</td>\n",
       "      <td>宁亚飞</td>\n",
       "      <td>2021-08-09 09:19:09</td>\n",
       "      <td>评审费基教处报宁亚飞专家</td>\n",
       "    </tr>\n",
       "    <tr>\n",
       "      <th>4</th>\n",
       "      <td>福建省教育厅（本级）</td>\n",
       "      <td>劳务费</td>\n",
       "      <td>闽财指【2021】0424号</td>\n",
       "      <td>800.0</td>\n",
       "      <td>曾雅茹</td>\n",
       "      <td>2021-08-09 09:19:09</td>\n",
       "      <td>评审费基教处报曾雅茹专家</td>\n",
       "    </tr>\n",
       "  </tbody>\n",
       "</table>\n",
       "</div>"
      ],
      "text/plain": [
       "         预算单位 经济分类            指标文号   申请金额 收款人名称                 支付日期  \\\n",
       "0  福建省教育厅（本级）  劳务费  闽财指【2021】0424号  800.0   吴丽仙  2021-08-09 09:15:32   \n",
       "1  福建省教育厅（本级）  劳务费  闽财指【2021】0424号  800.0   王先达  2021-08-09 09:15:32   \n",
       "2  福建省教育厅（本级）  劳务费  闽财指【2021】0424号  800.0    程奇  2021-08-09 09:18:32   \n",
       "3  福建省教育厅（本级）  劳务费  闽财指【2021】0424号  800.0   宁亚飞  2021-08-09 09:19:09   \n",
       "4  福建省教育厅（本级）  劳务费  闽财指【2021】0424号  800.0   曾雅茹  2021-08-09 09:19:09   \n",
       "\n",
       "           支付摘要  \n",
       "0  评审费基教处报吴丽仙专家  \n",
       "1  评审费基教处报王先达专家  \n",
       "2   评审费基教处报程奇专家  \n",
       "3  评审费基教处报宁亚飞专家  \n",
       "4  评审费基教处报曾雅茹专家  "
      ]
     },
     "execution_count": 153,
     "metadata": {},
     "output_type": "execute_result"
    }
   ],
   "source": [
    "data2.head()"
   ]
  },
  {
   "cell_type": "code",
   "execution_count": 184,
   "metadata": {},
   "outputs": [],
   "source": [
    "out = pd.value_counts(data2[\"经济分类\"])"
   ]
  },
  {
   "cell_type": "code",
   "execution_count": 200,
   "metadata": {},
   "outputs": [
    {
     "data": {
      "text/plain": [
       "Index(['预算单位', '经济分类', '指标文号', '申请金额', '收款人名称', '支付日期', '支付摘要'], dtype='object')"
      ]
     },
     "execution_count": 200,
     "metadata": {},
     "output_type": "execute_result"
    }
   ],
   "source": [
    "data1.columns"
   ]
  },
  {
   "cell_type": "code",
   "execution_count": 198,
   "metadata": {},
   "outputs": [
    {
     "data": {
      "text/plain": [
       "60"
      ]
     },
     "execution_count": 198,
     "metadata": {},
     "output_type": "execute_result"
    }
   ],
   "source": [
    "out.values.sum()"
   ]
  },
  {
   "cell_type": "code",
   "execution_count": 177,
   "metadata": {},
   "outputs": [],
   "source": [
    "sub_data = data2.loc[data2[\"经济分类\"] == out.index[3]]"
   ]
  },
  {
   "cell_type": "code",
   "execution_count": 178,
   "metadata": {},
   "outputs": [
    {
     "data": {
      "text/html": [
       "<div>\n",
       "<style scoped>\n",
       "    .dataframe tbody tr th:only-of-type {\n",
       "        vertical-align: middle;\n",
       "    }\n",
       "\n",
       "    .dataframe tbody tr th {\n",
       "        vertical-align: top;\n",
       "    }\n",
       "\n",
       "    .dataframe thead th {\n",
       "        text-align: right;\n",
       "    }\n",
       "</style>\n",
       "<table border=\"1\" class=\"dataframe\">\n",
       "  <thead>\n",
       "    <tr style=\"text-align: right;\">\n",
       "      <th></th>\n",
       "      <th>预算单位</th>\n",
       "      <th>经济分类</th>\n",
       "      <th>指标文号</th>\n",
       "      <th>申请金额</th>\n",
       "      <th>收款人名称</th>\n",
       "      <th>支付日期</th>\n",
       "      <th>支付摘要</th>\n",
       "    </tr>\n",
       "  </thead>\n",
       "  <tbody>\n",
       "    <tr>\n",
       "      <th>18</th>\n",
       "      <td>福建省教育厅（本级）</td>\n",
       "      <td>印刷费</td>\n",
       "      <td>闽财指【2021】0424号</td>\n",
       "      <td>662.0</td>\n",
       "      <td>福建省人民政府办公厅文印中心</td>\n",
       "      <td>2021-12-07 11:32:42</td>\n",
       "      <td>科信处印刷费</td>\n",
       "    </tr>\n",
       "    <tr>\n",
       "      <th>19</th>\n",
       "      <td>福建省教育厅（本级）</td>\n",
       "      <td>印刷费</td>\n",
       "      <td>闽财指【2021】0424号</td>\n",
       "      <td>1080.0</td>\n",
       "      <td>福建省人民政府办公厅文印中心</td>\n",
       "      <td>2021-12-07 11:34:22</td>\n",
       "      <td>教师处印刷费</td>\n",
       "    </tr>\n",
       "  </tbody>\n",
       "</table>\n",
       "</div>"
      ],
      "text/plain": [
       "          预算单位 经济分类            指标文号    申请金额           收款人名称  \\\n",
       "18  福建省教育厅（本级）  印刷费  闽财指【2021】0424号   662.0  福建省人民政府办公厅文印中心   \n",
       "19  福建省教育厅（本级）  印刷费  闽财指【2021】0424号  1080.0  福建省人民政府办公厅文印中心   \n",
       "\n",
       "                   支付日期    支付摘要  \n",
       "18  2021-12-07 11:32:42  科信处印刷费  \n",
       "19  2021-12-07 11:34:22  教师处印刷费  "
      ]
     },
     "execution_count": 178,
     "metadata": {},
     "output_type": "execute_result"
    }
   ],
   "source": [
    "sub_data"
   ]
  },
  {
   "cell_type": "code",
   "execution_count": 179,
   "metadata": {},
   "outputs": [
    {
     "data": {
      "text/plain": [
       "1742.0"
      ]
     },
     "execution_count": 179,
     "metadata": {},
     "output_type": "execute_result"
    }
   ],
   "source": [
    "sub_data[\"申请金额\"].sum()"
   ]
  },
  {
   "cell_type": "code",
   "execution_count": null,
   "metadata": {},
   "outputs": [],
   "source": []
  },
  {
   "cell_type": "code",
   "execution_count": null,
   "metadata": {},
   "outputs": [],
   "source": []
  },
  {
   "cell_type": "code",
   "execution_count": 140,
   "metadata": {},
   "outputs": [],
   "source": [
    "words = data2.iloc[50,-1]"
   ]
  },
  {
   "cell_type": "code",
   "execution_count": 141,
   "metadata": {},
   "outputs": [
    {
     "data": {
      "text/plain": [
       "'网上重走长征路网络竞赛活动奖励金'"
      ]
     },
     "execution_count": 141,
     "metadata": {},
     "output_type": "execute_result"
    }
   ],
   "source": [
    "words"
   ]
  },
  {
   "cell_type": "code",
   "execution_count": 142,
   "metadata": {},
   "outputs": [
    {
     "name": "stdout",
     "output_type": "stream",
     "text": [
      "[('网上', 1), ('重走', 1), ('长征路', 1), ('网络', 1), ('竞赛活动', 1), ('奖励金', 1)]\n",
      "Wall time: 5.98 ms\n"
     ]
    }
   ],
   "source": [
    "%%time\n",
    "wordcount = {}\n",
    "for word in jieba.cut(words):\n",
    "    if len(word) > 1:\n",
    "        wordcount[word] = wordcount.get(word, 0)+1\n",
    "print(sorted(wordcount.items(), key=lambda x: x[1], reverse=True)[:10])\n"
   ]
  },
  {
   "cell_type": "code",
   "execution_count": 143,
   "metadata": {},
   "outputs": [
    {
     "name": "stdout",
     "output_type": "stream",
     "text": [
      "start read stopwords data.\n",
      "Over.\n"
     ]
    }
   ],
   "source": [
    "stopwords_path = \"./stop_words.txt\"\n",
    "print('start read stopwords data.')\n",
    "stopwords = []\n",
    "with open(stopwords_path, 'r', encoding='utf-8') as f:\n",
    "    for line in f:\n",
    "        if len(line)>0:\n",
    "            stopwords.append(line.strip())\n",
    "print('Over.')\n",
    "\n",
    "def tokenizer(s):\n",
    "    words = []\n",
    "    cut = jieba.cut(s)\n",
    "    for word in cut:\n",
    "        if word not in stopwords:\n",
    "            words.append(word)\n",
    "    return words\n",
    "#读取文件数据，分词，并输出到文件\n",
    "# with open(output_path,'w',encoding='utf-8') as o:\n",
    "#     with open(input_path, 'r', encoding='utf-8') as f:\n",
    "#         for line in f:\n",
    "#             s=tokenizer(line.strip())\n",
    "#             o.write(\" \".join(s)+\"\\n\")\n",
    " "
   ]
  },
  {
   "cell_type": "code",
   "execution_count": 144,
   "metadata": {},
   "outputs": [
    {
     "name": "stdout",
     "output_type": "stream",
     "text": [
      "[('网上', 1), ('重走', 1), ('长征路', 1), ('网络', 1), ('竞赛活动', 1), ('奖励金', 1)]\n",
      "Wall time: 997 µs\n"
     ]
    }
   ],
   "source": [
    "%%time\n",
    "wordcount = {}\n",
    "for word in jieba.cut(words):\n",
    "    if len(word) > 1 and word not in stopwords :\n",
    "        wordcount[word] = wordcount.get(word, 0)+1\n",
    "print(sorted(wordcount.items(), key=lambda x: x[1], reverse=True)[:10])\n"
   ]
  },
  {
   "cell_type": "code",
   "execution_count": 145,
   "metadata": {},
   "outputs": [
    {
     "name": "stdout",
     "output_type": "stream",
     "text": [
      "[('网上', 27), ('重走', 27), ('长征路', 27), ('网络', 27), ('竞赛活动', 27), ('奖励金', 27), ('评审', 16), ('专家', 14), ('处报', 10), ('费基教', 9)]\n"
     ]
    }
   ],
   "source": [
    "wordcount = {}\n",
    "test = []\n",
    "for i in range(data2.shape[0]-1):\n",
    "    words = data2.iloc[i+1,-1]\n",
    "    test.append(jieba.cut(words))\n",
    "    for word in jieba.cut(words):\n",
    "        if len(word) > 1 and word not in stopwords :\n",
    "            wordcount[word] = wordcount.get(word, 0)+1\n",
    "print(sorted(wordcount.items(), key=lambda x: x[1], reverse=True)[:10])\n",
    "    "
   ]
  },
  {
   "cell_type": "code",
   "execution_count": 146,
   "metadata": {},
   "outputs": [
    {
     "data": {
      "text/html": [
       "<div>\n",
       "<style scoped>\n",
       "    .dataframe tbody tr th:only-of-type {\n",
       "        vertical-align: middle;\n",
       "    }\n",
       "\n",
       "    .dataframe tbody tr th {\n",
       "        vertical-align: top;\n",
       "    }\n",
       "\n",
       "    .dataframe thead th {\n",
       "        text-align: right;\n",
       "    }\n",
       "</style>\n",
       "<table border=\"1\" class=\"dataframe\">\n",
       "  <thead>\n",
       "    <tr style=\"text-align: right;\">\n",
       "      <th></th>\n",
       "      <th>预算单位</th>\n",
       "      <th>经济分类</th>\n",
       "      <th>指标文号</th>\n",
       "      <th>申请金额</th>\n",
       "      <th>收款人名称</th>\n",
       "      <th>支付日期</th>\n",
       "      <th>支付摘要</th>\n",
       "    </tr>\n",
       "  </thead>\n",
       "  <tbody>\n",
       "    <tr>\n",
       "      <th>0</th>\n",
       "      <td>福建省教育厅（本级）</td>\n",
       "      <td>劳务费</td>\n",
       "      <td>闽财指【2021】0424号</td>\n",
       "      <td>800.0</td>\n",
       "      <td>吴丽仙</td>\n",
       "      <td>2021-08-09 09:15:32</td>\n",
       "      <td>评审费基教处报吴丽仙专家</td>\n",
       "    </tr>\n",
       "    <tr>\n",
       "      <th>1</th>\n",
       "      <td>福建省教育厅（本级）</td>\n",
       "      <td>劳务费</td>\n",
       "      <td>闽财指【2021】0424号</td>\n",
       "      <td>800.0</td>\n",
       "      <td>王先达</td>\n",
       "      <td>2021-08-09 09:15:32</td>\n",
       "      <td>评审费基教处报王先达专家</td>\n",
       "    </tr>\n",
       "    <tr>\n",
       "      <th>2</th>\n",
       "      <td>福建省教育厅（本级）</td>\n",
       "      <td>劳务费</td>\n",
       "      <td>闽财指【2021】0424号</td>\n",
       "      <td>800.0</td>\n",
       "      <td>程奇</td>\n",
       "      <td>2021-08-09 09:18:32</td>\n",
       "      <td>评审费基教处报程奇专家</td>\n",
       "    </tr>\n",
       "    <tr>\n",
       "      <th>3</th>\n",
       "      <td>福建省教育厅（本级）</td>\n",
       "      <td>劳务费</td>\n",
       "      <td>闽财指【2021】0424号</td>\n",
       "      <td>800.0</td>\n",
       "      <td>宁亚飞</td>\n",
       "      <td>2021-08-09 09:19:09</td>\n",
       "      <td>评审费基教处报宁亚飞专家</td>\n",
       "    </tr>\n",
       "    <tr>\n",
       "      <th>4</th>\n",
       "      <td>福建省教育厅（本级）</td>\n",
       "      <td>劳务费</td>\n",
       "      <td>闽财指【2021】0424号</td>\n",
       "      <td>800.0</td>\n",
       "      <td>曾雅茹</td>\n",
       "      <td>2021-08-09 09:19:09</td>\n",
       "      <td>评审费基教处报曾雅茹专家</td>\n",
       "    </tr>\n",
       "  </tbody>\n",
       "</table>\n",
       "</div>"
      ],
      "text/plain": [
       "         预算单位 经济分类            指标文号   申请金额 收款人名称                 支付日期  \\\n",
       "0  福建省教育厅（本级）  劳务费  闽财指【2021】0424号  800.0   吴丽仙  2021-08-09 09:15:32   \n",
       "1  福建省教育厅（本级）  劳务费  闽财指【2021】0424号  800.0   王先达  2021-08-09 09:15:32   \n",
       "2  福建省教育厅（本级）  劳务费  闽财指【2021】0424号  800.0    程奇  2021-08-09 09:18:32   \n",
       "3  福建省教育厅（本级）  劳务费  闽财指【2021】0424号  800.0   宁亚飞  2021-08-09 09:19:09   \n",
       "4  福建省教育厅（本级）  劳务费  闽财指【2021】0424号  800.0   曾雅茹  2021-08-09 09:19:09   \n",
       "\n",
       "           支付摘要  \n",
       "0  评审费基教处报吴丽仙专家  \n",
       "1  评审费基教处报王先达专家  \n",
       "2   评审费基教处报程奇专家  \n",
       "3  评审费基教处报宁亚飞专家  \n",
       "4  评审费基教处报曾雅茹专家  "
      ]
     },
     "execution_count": 146,
     "metadata": {},
     "output_type": "execute_result"
    }
   ],
   "source": [
    "data1.head()"
   ]
  },
  {
   "cell_type": "code",
   "execution_count": 147,
   "metadata": {},
   "outputs": [],
   "source": [
    "test = pd.value_counts(data1[\"预算单位\"])"
   ]
  },
  {
   "cell_type": "code",
   "execution_count": 148,
   "metadata": {},
   "outputs": [
    {
     "data": {
      "text/plain": [
       "福建师范大学          1352\n",
       "福建省福州第一中学       1227\n",
       "福建省普通教育教学研究室     521\n",
       "福建省电化教育馆         205\n",
       "福建师范大学附属中学       165\n",
       "福建省福州实验小学        153\n",
       "福建师范大学附属小学       111\n",
       "福建省教育评估研究中心      107\n",
       "福建省教育装备与基建中心      65\n",
       "闽南师范大学            62\n",
       "福建省教育厅（本级）        60\n",
       "集美大学              51\n",
       "福建省教育科学研究所        51\n",
       "福建省教育考试院          12\n",
       "Name: 预算单位, dtype: int64"
      ]
     },
     "execution_count": 148,
     "metadata": {},
     "output_type": "execute_result"
    }
   ],
   "source": [
    "test"
   ]
  },
  {
   "cell_type": "code",
   "execution_count": 149,
   "metadata": {},
   "outputs": [],
   "source": [
    "indexes = data1[\"预算单位\"].unique()"
   ]
  },
  {
   "cell_type": "code",
   "execution_count": 151,
   "metadata": {},
   "outputs": [
    {
     "data": {
      "text/plain": [
       "array(['福建省教育厅（本级）', '福建师范大学', '集美大学', '福建省福州第一中学', '福建师范大学附属中学',\n",
       "       '福建省福州实验小学', '福建师范大学附属小学', '福建省教育考试院', '福建省电化教育馆', '福建省普通教育教学研究室',\n",
       "       '福建省教育科学研究所', '福建省教育装备与基建中心', '福建省教育评估研究中心', '闽南师范大学'],\n",
       "      dtype=object)"
      ]
     },
     "execution_count": 151,
     "metadata": {},
     "output_type": "execute_result"
    }
   ],
   "source": [
    "indexes"
   ]
  },
  {
   "cell_type": "code",
   "execution_count": 152,
   "metadata": {},
   "outputs": [
    {
     "data": {
      "text/plain": [
       "['福建省教育厅（本级）',\n",
       " '福建师范大学',\n",
       " '集美大学',\n",
       " '福建省福州第一中学',\n",
       " '福建师范大学附属中学',\n",
       " '福建省福州实验小学',\n",
       " '福建师范大学附属小学',\n",
       " '福建省教育考试院',\n",
       " '福建省电化教育馆',\n",
       " '福建省普通教育教学研究室',\n",
       " '福建省教育科学研究所',\n",
       " '福建省教育装备与基建中心',\n",
       " '福建省教育评估研究中心',\n",
       " '闽南师范大学']"
      ]
     },
     "execution_count": 152,
     "metadata": {},
     "output_type": "execute_result"
    }
   ],
   "source": [
    "list(indexes)"
   ]
  },
  {
   "cell_type": "code",
   "execution_count": 201,
   "metadata": {},
   "outputs": [],
   "source": [
    "import matplotlib.pyplot as plt"
   ]
  },
  {
   "cell_type": "code",
   "execution_count": 203,
   "metadata": {},
   "outputs": [
    {
     "data": {
      "text/plain": [
       "([<matplotlib.patches.Wedge at 0x16c6cb9e4a8>,\n",
       "  <matplotlib.patches.Wedge at 0x16c6cb9e9e8>,\n",
       "  <matplotlib.patches.Wedge at 0x16c6cb9eda0>,\n",
       "  <matplotlib.patches.Wedge at 0x16c6b507278>,\n",
       "  <matplotlib.patches.Wedge at 0x16c6b507710>],\n",
       " [Text(1.0905893469510741, 0.14357881569657108, ''),\n",
       "  Text(0.6696375787185103, 0.8726886690956924, ''),\n",
       "  Text(-1.0162674759093278, 0.42095179938905625, ''),\n",
       "  Text(-0.5500000148652441, -0.9526279355804297, ''),\n",
       "  Text(0.6696375378650044, -0.8726887004436892, '')])"
      ]
     },
     "execution_count": 203,
     "metadata": {},
     "output_type": "execute_result"
    },
    {
     "data": {
      "image/png": "[encoded data removed]",
      "text/plain": [
       "<Figure size 432x288 with 1 Axes>"
      ]
     },
     "metadata": {},
     "output_type": "display_data"
    }
   ],
   "source": [
    "test = np.array([1,5,9,2,7])\n",
    "plt.pie(test)"
   ]
  },
  {
   "cell_type": "code",
   "execution_count": 204,
   "metadata": {},
   "outputs": [],
   "source": [
    "a  =('奖励金', 27)"
   ]
  },
  {
   "cell_type": "code",
   "execution_count": 205,
   "metadata": {},
   "outputs": [
    {
     "data": {
      "text/plain": [
       "('奖励金', 27)"
      ]
     },
     "execution_count": 205,
     "metadata": {},
     "output_type": "execute_result"
    }
   ],
   "source": [
    "a"
   ]
  },
  {
   "cell_type": "code",
   "execution_count": 206,
   "metadata": {},
   "outputs": [
    {
     "data": {
      "text/plain": [
       "'奖励金'"
      ]
     },
     "execution_count": 206,
     "metadata": {},
     "output_type": "execute_result"
    }
   ],
   "source": [
    "a[0]"
   ]
  },
  {
   "cell_type": "code",
   "execution_count": 207,
   "metadata": {},
   "outputs": [],
   "source": [
    "a = [('网上', 27), ('重走', 27), ('长征路', 27), ('网络', 27), ('竞赛活动', 27), ('奖励金', 27), ('评审', 16), ('专家', 14), ('处报', 10), ('费基教', 9)]"
   ]
  },
  {
   "cell_type": "code",
   "execution_count": 210,
   "metadata": {},
   "outputs": [
    {
     "data": {
      "text/plain": [
       "'网上'"
      ]
     },
     "execution_count": 210,
     "metadata": {},
     "output_type": "execute_result"
    }
   ],
   "source": [
    "a[0][0]"
   ]
  },
  {
   "cell_type": "code",
   "execution_count": 211,
   "metadata": {},
   "outputs": [
    {
     "data": {
      "image/png": "[encoded data removed]",
      "text/plain": [
       "<Figure size 432x288 with 1 Axes>"
      ]
     },
     "metadata": {
      "needs_background": "light"
     },
     "output_type": "display_data"
    }
   ],
   "source": [
    "fig,axes = plt.subplots(1,1)"
   ]
  },
  {
   "cell_type": "code",
   "execution_count": 212,
   "metadata": {},
   "outputs": [],
   "source": [
    "from wordcloud import WordCloud"
   ]
  },
  {
   "cell_type": "code",
   "execution_count": null,
   "metadata": {},
   "outputs": [],
   "source": [
    "result = \" \".join(cut_text)  # 必须给个符号分隔开分词结果来形成字符串,否则不能绘制词云\n",
    "# join函数的用法：'sep'.join(seq)参数说明：sep：分隔符。可以为空；seq：要连接的元素序列、字符串、元组、字典；即：以sep作为分隔符，将seq所有的元素合并成一个新的字符串\n",
    "\n",
    "# 生成词云图，这里需要注意的是WordCloud默认不支持中文，所以这里需已下载好的中文字库\n",
    "# 无自定义背景图：需要指定生成词云图的像素大小，默认背景颜色为黑色,统一文字颜色：mode='RGBA'和colormap='pink'\n",
    "wc = WordCloud(\n",
    "    # 设置字体，不指定就会出现乱码\n",
    "    background_color='white',  # 设置背景色，默认为黑色\n",
    "    width=500,  # 设置背景宽\n",
    "    height=350,  # 设置背景高\n",
    "    max_font_size=50,  # 最大字体\n",
    "    min_font_size=10,  # 最小字体\n",
    "    mode='RGBA'  # 当参数为“RGBA”并且background_color不为空时，背景为透明\n",
    ")\n",
    "wc.generate(result)  # 根据分词后的文本产生词云\n",
    "wc.to_file(r\"wordcloud.png\")  # 保存绘制好的词云图\n",
    "plt.imshow(wc)  # 以图片的形式显示词云\n",
    "plt.axis(\"off\")  # 关闭图像坐标系，即不显示坐标系\n",
    "plt.show()  # plt.imshow()函数负责对图像进行处理，并显示其格式，但是不能显示。其后必须有plt.show()才能显示\n"
   ]
  }
 ],
 "metadata": {
  "kernelspec": {
   "display_name": "Python 3",
   "language": "python",
   "name": "python3"
  },
  "language_info": {
   "codemirror_mode": {
    "name": "ipython",
    "version": 3
   },
   "file_extension": ".py",
   "mimetype": "text/x-python",
   "name": "python",
   "nbconvert_exporter": "python",
   "pygments_lexer": "ipython3",
   "version": "3.7.0"
  }
 },
 "nbformat": 4,
 "nbformat_minor": 2
}
